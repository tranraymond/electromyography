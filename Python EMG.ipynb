{
 "cells": [
  {
   "cell_type": "code",
   "execution_count": 74,
   "metadata": {},
   "outputs": [],
   "source": [
    "#name of the library used for analysis\n",
    "import pandas as pd\n",
    "import matplotlib.pyplot as plt"
   ]
  },
  {
   "cell_type": "code",
   "execution_count": 75,
   "metadata": {},
   "outputs": [],
   "source": [
    "# Importing our EMG data as a dataframe, skipping the first 3 rows, using these column names\n",
    "df = pd.read_csv('test_001_001_Odau_1.csv', skiprows=3, \n",
    "                 usecols=['Frame','Analog_1','Analog_2','Analog_3','Analog_4','Analog_5','Analog_6','Analog_7','Analog_8'])"
   ]
  },
  {
   "cell_type": "code",
   "execution_count": 76,
   "metadata": {
    "scrolled": true
   },
   "outputs": [
    {
     "data": {
      "text/html": [
       "<div>\n",
       "<style scoped>\n",
       "    .dataframe tbody tr th:only-of-type {\n",
       "        vertical-align: middle;\n",
       "    }\n",
       "\n",
       "    .dataframe tbody tr th {\n",
       "        vertical-align: top;\n",
       "    }\n",
       "\n",
       "    .dataframe thead th {\n",
       "        text-align: right;\n",
       "    }\n",
       "</style>\n",
       "<table border=\"1\" class=\"dataframe\">\n",
       "  <thead>\n",
       "    <tr style=\"text-align: right;\">\n",
       "      <th></th>\n",
       "      <th>Frame</th>\n",
       "      <th>Analog_1</th>\n",
       "      <th>Analog_2</th>\n",
       "      <th>Analog_3</th>\n",
       "      <th>Analog_4</th>\n",
       "      <th>Analog_5</th>\n",
       "      <th>Analog_6</th>\n",
       "      <th>Analog_7</th>\n",
       "      <th>Analog_8</th>\n",
       "    </tr>\n",
       "  </thead>\n",
       "  <tbody>\n",
       "    <tr>\n",
       "      <td>0</td>\n",
       "      <td>1</td>\n",
       "      <td>0.000610</td>\n",
       "      <td>0.000305</td>\n",
       "      <td>-0.004578</td>\n",
       "      <td>0.002747</td>\n",
       "      <td>-0.003357</td>\n",
       "      <td>0.001221</td>\n",
       "      <td>-0.000305</td>\n",
       "      <td>0.002441</td>\n",
       "    </tr>\n",
       "    <tr>\n",
       "      <td>1</td>\n",
       "      <td>2</td>\n",
       "      <td>0.001831</td>\n",
       "      <td>-0.000305</td>\n",
       "      <td>-0.004578</td>\n",
       "      <td>0.003967</td>\n",
       "      <td>-0.006409</td>\n",
       "      <td>0.002136</td>\n",
       "      <td>-0.003052</td>\n",
       "      <td>0.003357</td>\n",
       "    </tr>\n",
       "    <tr>\n",
       "      <td>2</td>\n",
       "      <td>3</td>\n",
       "      <td>0.000610</td>\n",
       "      <td>-0.001221</td>\n",
       "      <td>0.000610</td>\n",
       "      <td>0.003662</td>\n",
       "      <td>-0.006714</td>\n",
       "      <td>0.002136</td>\n",
       "      <td>-0.003052</td>\n",
       "      <td>0.003357</td>\n",
       "    </tr>\n",
       "    <tr>\n",
       "      <td>3</td>\n",
       "      <td>4</td>\n",
       "      <td>0.000305</td>\n",
       "      <td>-0.000305</td>\n",
       "      <td>-0.000305</td>\n",
       "      <td>0.003662</td>\n",
       "      <td>-0.005493</td>\n",
       "      <td>0.000610</td>\n",
       "      <td>-0.007324</td>\n",
       "      <td>0.000305</td>\n",
       "    </tr>\n",
       "    <tr>\n",
       "      <td>4</td>\n",
       "      <td>5</td>\n",
       "      <td>-0.000916</td>\n",
       "      <td>-0.004272</td>\n",
       "      <td>0.000610</td>\n",
       "      <td>0.000916</td>\n",
       "      <td>-0.001831</td>\n",
       "      <td>0.000916</td>\n",
       "      <td>-0.003357</td>\n",
       "      <td>0.001526</td>\n",
       "    </tr>\n",
       "  </tbody>\n",
       "</table>\n",
       "</div>"
      ],
      "text/plain": [
       "   Frame  Analog_1  Analog_2  Analog_3  Analog_4  Analog_5  Analog_6  \\\n",
       "0      1  0.000610  0.000305 -0.004578  0.002747 -0.003357  0.001221   \n",
       "1      2  0.001831 -0.000305 -0.004578  0.003967 -0.006409  0.002136   \n",
       "2      3  0.000610 -0.001221  0.000610  0.003662 -0.006714  0.002136   \n",
       "3      4  0.000305 -0.000305 -0.000305  0.003662 -0.005493  0.000610   \n",
       "4      5 -0.000916 -0.004272  0.000610  0.000916 -0.001831  0.000916   \n",
       "\n",
       "   Analog_7  Analog_8  \n",
       "0 -0.000305  0.002441  \n",
       "1 -0.003052  0.003357  \n",
       "2 -0.003052  0.003357  \n",
       "3 -0.007324  0.000305  \n",
       "4 -0.003357  0.001526  "
      ]
     },
     "execution_count": 76,
     "metadata": {},
     "output_type": "execute_result"
    }
   ],
   "source": [
    "# show first 5 rows of data\n",
    "df.head(5)"
   ]
  },
  {
   "cell_type": "code",
   "execution_count": 77,
   "metadata": {},
   "outputs": [
    {
     "data": {
      "text/plain": [
       "[<matplotlib.lines.Line2D at 0x7efdd3a65a90>]"
      ]
     },
     "execution_count": 77,
     "metadata": {},
     "output_type": "execute_result"
    },
    {
     "data": {
      "image/png": "[encoded data removed]",
      "text/plain": [
       "<Figure size 432x288 with 1 Axes>"
      ]
     },
     "metadata": {
      "needs_background": "light"
     },
     "output_type": "display_data"
    }
   ],
   "source": [
    "# plot with y-range, labels, title, black colored line graph\n",
    "plt.ylim(-0.025,0.025)\n",
    "plt.xlabel('Frames')\n",
    "plt.ylabel('Voltage (mV)')\n",
    "plt.title('Raw EMG with DC-Offset')\n",
    "plt.plot(df['Frame'],df[column], color='k')"
   ]
  },
  {
   "cell_type": "code",
   "execution_count": 78,
   "metadata": {},
   "outputs": [
    {
     "data": {
      "text/html": [
       "<div>\n",
       "<style scoped>\n",
       "    .dataframe tbody tr th:only-of-type {\n",
       "        vertical-align: middle;\n",
       "    }\n",
       "\n",
       "    .dataframe tbody tr th {\n",
       "        vertical-align: top;\n",
       "    }\n",
       "\n",
       "    .dataframe thead th {\n",
       "        text-align: right;\n",
       "    }\n",
       "</style>\n",
       "<table border=\"1\" class=\"dataframe\">\n",
       "  <thead>\n",
       "    <tr style=\"text-align: right;\">\n",
       "      <th></th>\n",
       "      <th>Frame</th>\n",
       "      <th>Analog_1</th>\n",
       "      <th>Analog_2</th>\n",
       "      <th>Analog_3</th>\n",
       "      <th>Analog_4</th>\n",
       "      <th>Analog_5</th>\n",
       "      <th>Analog_6</th>\n",
       "      <th>Analog_7</th>\n",
       "      <th>Analog_8</th>\n",
       "    </tr>\n",
       "  </thead>\n",
       "  <tbody>\n",
       "    <tr>\n",
       "      <td>count</td>\n",
       "      <td>10000.00000</td>\n",
       "      <td>10000.000000</td>\n",
       "      <td>10000.000000</td>\n",
       "      <td>10000.000000</td>\n",
       "      <td>10000.000000</td>\n",
       "      <td>10000.000000</td>\n",
       "      <td>10000.000000</td>\n",
       "      <td>10000.000000</td>\n",
       "      <td>10000.000000</td>\n",
       "    </tr>\n",
       "    <tr>\n",
       "      <td>mean</td>\n",
       "      <td>5000.50000</td>\n",
       "      <td>-0.004573</td>\n",
       "      <td>-0.005755</td>\n",
       "      <td>-0.004417</td>\n",
       "      <td>-0.002594</td>\n",
       "      <td>-0.005019</td>\n",
       "      <td>-0.005447</td>\n",
       "      <td>-0.004518</td>\n",
       "      <td>-0.003170</td>\n",
       "    </tr>\n",
       "    <tr>\n",
       "      <td>std</td>\n",
       "      <td>2886.89568</td>\n",
       "      <td>0.004866</td>\n",
       "      <td>0.005014</td>\n",
       "      <td>0.004832</td>\n",
       "      <td>0.004845</td>\n",
       "      <td>0.004854</td>\n",
       "      <td>0.005053</td>\n",
       "      <td>0.004936</td>\n",
       "      <td>0.005056</td>\n",
       "    </tr>\n",
       "    <tr>\n",
       "      <td>min</td>\n",
       "      <td>1.00000</td>\n",
       "      <td>-0.019226</td>\n",
       "      <td>-0.021057</td>\n",
       "      <td>-0.018311</td>\n",
       "      <td>-0.017395</td>\n",
       "      <td>-0.018921</td>\n",
       "      <td>-0.019531</td>\n",
       "      <td>-0.019531</td>\n",
       "      <td>-0.018921</td>\n",
       "    </tr>\n",
       "    <tr>\n",
       "      <td>25%</td>\n",
       "      <td>2500.75000</td>\n",
       "      <td>-0.007935</td>\n",
       "      <td>-0.009460</td>\n",
       "      <td>-0.007935</td>\n",
       "      <td>-0.006104</td>\n",
       "      <td>-0.008545</td>\n",
       "      <td>-0.009155</td>\n",
       "      <td>-0.008240</td>\n",
       "      <td>-0.006714</td>\n",
       "    </tr>\n",
       "    <tr>\n",
       "      <td>50%</td>\n",
       "      <td>5000.50000</td>\n",
       "      <td>-0.004272</td>\n",
       "      <td>-0.005798</td>\n",
       "      <td>-0.004272</td>\n",
       "      <td>-0.002441</td>\n",
       "      <td>-0.004578</td>\n",
       "      <td>-0.005188</td>\n",
       "      <td>-0.004272</td>\n",
       "      <td>-0.002747</td>\n",
       "    </tr>\n",
       "    <tr>\n",
       "      <td>75%</td>\n",
       "      <td>7500.25000</td>\n",
       "      <td>-0.000305</td>\n",
       "      <td>-0.001526</td>\n",
       "      <td>-0.000305</td>\n",
       "      <td>0.001526</td>\n",
       "      <td>-0.000916</td>\n",
       "      <td>-0.000916</td>\n",
       "      <td>-0.000305</td>\n",
       "      <td>0.001221</td>\n",
       "    </tr>\n",
       "    <tr>\n",
       "      <td>max</td>\n",
       "      <td>10000.00000</td>\n",
       "      <td>0.005188</td>\n",
       "      <td>0.006104</td>\n",
       "      <td>0.007324</td>\n",
       "      <td>0.007629</td>\n",
       "      <td>0.006409</td>\n",
       "      <td>0.005493</td>\n",
       "      <td>0.007935</td>\n",
       "      <td>0.008850</td>\n",
       "    </tr>\n",
       "  </tbody>\n",
       "</table>\n",
       "</div>"
      ],
      "text/plain": [
       "             Frame      Analog_1      Analog_2      Analog_3      Analog_4  \\\n",
       "count  10000.00000  10000.000000  10000.000000  10000.000000  10000.000000   \n",
       "mean    5000.50000     -0.004573     -0.005755     -0.004417     -0.002594   \n",
       "std     2886.89568      0.004866      0.005014      0.004832      0.004845   \n",
       "min        1.00000     -0.019226     -0.021057     -0.018311     -0.017395   \n",
       "25%     2500.75000     -0.007935     -0.009460     -0.007935     -0.006104   \n",
       "50%     5000.50000     -0.004272     -0.005798     -0.004272     -0.002441   \n",
       "75%     7500.25000     -0.000305     -0.001526     -0.000305      0.001526   \n",
       "max    10000.00000      0.005188      0.006104      0.007324      0.007629   \n",
       "\n",
       "           Analog_5      Analog_6      Analog_7      Analog_8  \n",
       "count  10000.000000  10000.000000  10000.000000  10000.000000  \n",
       "mean      -0.005019     -0.005447     -0.004518     -0.003170  \n",
       "std        0.004854      0.005053      0.004936      0.005056  \n",
       "min       -0.018921     -0.019531     -0.019531     -0.018921  \n",
       "25%       -0.008545     -0.009155     -0.008240     -0.006714  \n",
       "50%       -0.004578     -0.005188     -0.004272     -0.002747  \n",
       "75%       -0.000916     -0.000916     -0.000305      0.001221  \n",
       "max        0.006409      0.005493      0.007935      0.008850  "
      ]
     },
     "execution_count": 78,
     "metadata": {},
     "output_type": "execute_result"
    }
   ],
   "source": [
    "# show stats\n",
    "df.describe()"
   ]
  },
  {
   "cell_type": "code",
   "execution_count": 79,
   "metadata": {
    "scrolled": true
   },
   "outputs": [],
   "source": [
    "# the mean value represents the inherent bias in the signal. Subtracting the mean from the signal results in bias removal. Iterates over every column \n",
    "# except 'Frame' column\n",
    "for column in df.columns[1:]:\n",
    "    df[column] = df[column] - df[column].mean()"
   ]
  },
  {
   "cell_type": "code",
   "execution_count": 80,
   "metadata": {},
   "outputs": [
    {
     "data": {
      "text/plain": [
       "[<matplotlib.lines.Line2D at 0x7efdd39c5c88>]"
      ]
     },
     "execution_count": 80,
     "metadata": {},
     "output_type": "execute_result"
    },
    {
     "data": {
      "image/png": "[encoded data removed]",
      "text/plain": [
       "<Figure size 432x288 with 1 Axes>"
      ]
     },
     "metadata": {
      "needs_background": "light"
     },
     "output_type": "display_data"
    }
   ],
   "source": [
    "# plot with y-range, labels, title, black colored line graph\n",
    "plt.ylim(-0.025,0.025) \n",
    "plt.xlabel('Frames')\n",
    "plt.ylabel('Voltage (mV)')\n",
    "plt.title('EMG with DC-Offset Removed')\n",
    "plt.plot(df['Frame'],df['Analog_1'], color='k')"
   ]
  },
  {
   "cell_type": "code",
   "execution_count": 81,
   "metadata": {},
   "outputs": [
    {
     "data": {
      "text/html": [
       "<div>\n",
       "<style scoped>\n",
       "    .dataframe tbody tr th:only-of-type {\n",
       "        vertical-align: middle;\n",
       "    }\n",
       "\n",
       "    .dataframe tbody tr th {\n",
       "        vertical-align: top;\n",
       "    }\n",
       "\n",
       "    .dataframe thead th {\n",
       "        text-align: right;\n",
       "    }\n",
       "</style>\n",
       "<table border=\"1\" class=\"dataframe\">\n",
       "  <thead>\n",
       "    <tr style=\"text-align: right;\">\n",
       "      <th></th>\n",
       "      <th>Frame</th>\n",
       "      <th>Analog_1</th>\n",
       "      <th>Analog_2</th>\n",
       "      <th>Analog_3</th>\n",
       "      <th>Analog_4</th>\n",
       "      <th>Analog_5</th>\n",
       "      <th>Analog_6</th>\n",
       "      <th>Analog_7</th>\n",
       "      <th>Analog_8</th>\n",
       "    </tr>\n",
       "  </thead>\n",
       "  <tbody>\n",
       "    <tr>\n",
       "      <td>0</td>\n",
       "      <td>1</td>\n",
       "      <td>0.005183</td>\n",
       "      <td>0.006061</td>\n",
       "      <td>-0.000161</td>\n",
       "      <td>0.005340</td>\n",
       "      <td>0.001662</td>\n",
       "      <td>0.006668</td>\n",
       "      <td>0.004212</td>\n",
       "      <td>0.005611</td>\n",
       "    </tr>\n",
       "    <tr>\n",
       "      <td>1</td>\n",
       "      <td>2</td>\n",
       "      <td>0.006404</td>\n",
       "      <td>0.005450</td>\n",
       "      <td>-0.000161</td>\n",
       "      <td>0.006561</td>\n",
       "      <td>-0.001389</td>\n",
       "      <td>0.007583</td>\n",
       "      <td>0.001466</td>\n",
       "      <td>0.006527</td>\n",
       "    </tr>\n",
       "    <tr>\n",
       "      <td>2</td>\n",
       "      <td>3</td>\n",
       "      <td>0.005183</td>\n",
       "      <td>0.004535</td>\n",
       "      <td>0.005027</td>\n",
       "      <td>0.006256</td>\n",
       "      <td>-0.001694</td>\n",
       "      <td>0.007583</td>\n",
       "      <td>0.001466</td>\n",
       "      <td>0.006527</td>\n",
       "    </tr>\n",
       "    <tr>\n",
       "      <td>3</td>\n",
       "      <td>4</td>\n",
       "      <td>0.004878</td>\n",
       "      <td>0.005450</td>\n",
       "      <td>0.004112</td>\n",
       "      <td>0.006256</td>\n",
       "      <td>-0.000474</td>\n",
       "      <td>0.006057</td>\n",
       "      <td>-0.002807</td>\n",
       "      <td>0.003475</td>\n",
       "    </tr>\n",
       "    <tr>\n",
       "      <td>4</td>\n",
       "      <td>5</td>\n",
       "      <td>0.003657</td>\n",
       "      <td>0.001483</td>\n",
       "      <td>0.005027</td>\n",
       "      <td>0.003509</td>\n",
       "      <td>0.003188</td>\n",
       "      <td>0.006362</td>\n",
       "      <td>0.001161</td>\n",
       "      <td>0.004696</td>\n",
       "    </tr>\n",
       "  </tbody>\n",
       "</table>\n",
       "</div>"
      ],
      "text/plain": [
       "   Frame  Analog_1  Analog_2  Analog_3  Analog_4  Analog_5  Analog_6  \\\n",
       "0      1  0.005183  0.006061 -0.000161  0.005340  0.001662  0.006668   \n",
       "1      2  0.006404  0.005450 -0.000161  0.006561 -0.001389  0.007583   \n",
       "2      3  0.005183  0.004535  0.005027  0.006256 -0.001694  0.007583   \n",
       "3      4  0.004878  0.005450  0.004112  0.006256 -0.000474  0.006057   \n",
       "4      5  0.003657  0.001483  0.005027  0.003509  0.003188  0.006362   \n",
       "\n",
       "   Analog_7  Analog_8  \n",
       "0  0.004212  0.005611  \n",
       "1  0.001466  0.006527  \n",
       "2  0.001466  0.006527  \n",
       "3 -0.002807  0.003475  \n",
       "4  0.001161  0.004696  "
      ]
     },
     "execution_count": 81,
     "metadata": {},
     "output_type": "execute_result"
    }
   ],
   "source": [
    "# show first 5 rows\n",
    "df.head(5)"
   ]
  },
  {
   "cell_type": "code",
   "execution_count": 82,
   "metadata": {},
   "outputs": [
    {
     "data": {
      "text/html": [
       "<div>\n",
       "<style scoped>\n",
       "    .dataframe tbody tr th:only-of-type {\n",
       "        vertical-align: middle;\n",
       "    }\n",
       "\n",
       "    .dataframe tbody tr th {\n",
       "        vertical-align: top;\n",
       "    }\n",
       "\n",
       "    .dataframe thead th {\n",
       "        text-align: right;\n",
       "    }\n",
       "</style>\n",
       "<table border=\"1\" class=\"dataframe\">\n",
       "  <thead>\n",
       "    <tr style=\"text-align: right;\">\n",
       "      <th></th>\n",
       "      <th>Frame</th>\n",
       "      <th>Analog_1</th>\n",
       "      <th>Analog_2</th>\n",
       "      <th>Analog_3</th>\n",
       "      <th>Analog_4</th>\n",
       "      <th>Analog_5</th>\n",
       "      <th>Analog_6</th>\n",
       "      <th>Analog_7</th>\n",
       "      <th>Analog_8</th>\n",
       "    </tr>\n",
       "  </thead>\n",
       "  <tbody>\n",
       "    <tr>\n",
       "      <td>count</td>\n",
       "      <td>10000.00000</td>\n",
       "      <td>1.000000e+04</td>\n",
       "      <td>1.000000e+04</td>\n",
       "      <td>1.000000e+04</td>\n",
       "      <td>1.000000e+04</td>\n",
       "      <td>1.000000e+04</td>\n",
       "      <td>1.000000e+04</td>\n",
       "      <td>1.000000e+04</td>\n",
       "      <td>1.000000e+04</td>\n",
       "    </tr>\n",
       "    <tr>\n",
       "      <td>mean</td>\n",
       "      <td>5000.50000</td>\n",
       "      <td>4.649059e-20</td>\n",
       "      <td>-2.220446e-19</td>\n",
       "      <td>6.938894e-20</td>\n",
       "      <td>2.157996e-19</td>\n",
       "      <td>-6.120104e-19</td>\n",
       "      <td>-5.051515e-19</td>\n",
       "      <td>-1.216388e-18</td>\n",
       "      <td>-2.831069e-19</td>\n",
       "    </tr>\n",
       "    <tr>\n",
       "      <td>std</td>\n",
       "      <td>2886.89568</td>\n",
       "      <td>4.866146e-03</td>\n",
       "      <td>5.013828e-03</td>\n",
       "      <td>4.831989e-03</td>\n",
       "      <td>4.844580e-03</td>\n",
       "      <td>4.853886e-03</td>\n",
       "      <td>5.052677e-03</td>\n",
       "      <td>4.936441e-03</td>\n",
       "      <td>5.056022e-03</td>\n",
       "    </tr>\n",
       "    <tr>\n",
       "      <td>min</td>\n",
       "      <td>1.00000</td>\n",
       "      <td>-1.465337e-02</td>\n",
       "      <td>-1.530169e-02</td>\n",
       "      <td>-1.389361e-02</td>\n",
       "      <td>-1.480138e-02</td>\n",
       "      <td>-1.390145e-02</td>\n",
       "      <td>-1.408428e-02</td>\n",
       "      <td>-1.501369e-02</td>\n",
       "      <td>-1.575078e-02</td>\n",
       "    </tr>\n",
       "    <tr>\n",
       "      <td>25%</td>\n",
       "      <td>2500.75000</td>\n",
       "      <td>-3.361899e-03</td>\n",
       "      <td>-3.705038e-03</td>\n",
       "      <td>-3.517661e-03</td>\n",
       "      <td>-3.509909e-03</td>\n",
       "      <td>-3.525504e-03</td>\n",
       "      <td>-3.708334e-03</td>\n",
       "      <td>-3.722220e-03</td>\n",
       "      <td>-3.543784e-03</td>\n",
       "    </tr>\n",
       "    <tr>\n",
       "      <td>50%</td>\n",
       "      <td>5000.50000</td>\n",
       "      <td>3.002006e-04</td>\n",
       "      <td>-4.293816e-05</td>\n",
       "      <td>1.444393e-04</td>\n",
       "      <td>1.521908e-04</td>\n",
       "      <td>4.417713e-04</td>\n",
       "      <td>2.589410e-04</td>\n",
       "      <td>2.450555e-04</td>\n",
       "      <td>4.234913e-04</td>\n",
       "    </tr>\n",
       "    <tr>\n",
       "      <td>75%</td>\n",
       "      <td>7500.25000</td>\n",
       "      <td>4.267476e-03</td>\n",
       "      <td>4.229512e-03</td>\n",
       "      <td>4.111714e-03</td>\n",
       "      <td>4.119466e-03</td>\n",
       "      <td>4.103871e-03</td>\n",
       "      <td>4.531391e-03</td>\n",
       "      <td>4.212330e-03</td>\n",
       "      <td>4.390766e-03</td>\n",
       "    </tr>\n",
       "    <tr>\n",
       "      <td>max</td>\n",
       "      <td>10000.00000</td>\n",
       "      <td>9.760626e-03</td>\n",
       "      <td>1.185889e-02</td>\n",
       "      <td>1.174109e-02</td>\n",
       "      <td>1.022297e-02</td>\n",
       "      <td>1.142807e-02</td>\n",
       "      <td>1.094007e-02</td>\n",
       "      <td>1.245206e-02</td>\n",
       "      <td>1.202014e-02</td>\n",
       "    </tr>\n",
       "  </tbody>\n",
       "</table>\n",
       "</div>"
      ],
      "text/plain": [
       "             Frame      Analog_1      Analog_2      Analog_3      Analog_4  \\\n",
       "count  10000.00000  1.000000e+04  1.000000e+04  1.000000e+04  1.000000e+04   \n",
       "mean    5000.50000  4.649059e-20 -2.220446e-19  6.938894e-20  2.157996e-19   \n",
       "std     2886.89568  4.866146e-03  5.013828e-03  4.831989e-03  4.844580e-03   \n",
       "min        1.00000 -1.465337e-02 -1.530169e-02 -1.389361e-02 -1.480138e-02   \n",
       "25%     2500.75000 -3.361899e-03 -3.705038e-03 -3.517661e-03 -3.509909e-03   \n",
       "50%     5000.50000  3.002006e-04 -4.293816e-05  1.444393e-04  1.521908e-04   \n",
       "75%     7500.25000  4.267476e-03  4.229512e-03  4.111714e-03  4.119466e-03   \n",
       "max    10000.00000  9.760626e-03  1.185889e-02  1.174109e-02  1.022297e-02   \n",
       "\n",
       "           Analog_5      Analog_6      Analog_7      Analog_8  \n",
       "count  1.000000e+04  1.000000e+04  1.000000e+04  1.000000e+04  \n",
       "mean  -6.120104e-19 -5.051515e-19 -1.216388e-18 -2.831069e-19  \n",
       "std    4.853886e-03  5.052677e-03  4.936441e-03  5.056022e-03  \n",
       "min   -1.390145e-02 -1.408428e-02 -1.501369e-02 -1.575078e-02  \n",
       "25%   -3.525504e-03 -3.708334e-03 -3.722220e-03 -3.543784e-03  \n",
       "50%    4.417713e-04  2.589410e-04  2.450555e-04  4.234913e-04  \n",
       "75%    4.103871e-03  4.531391e-03  4.212330e-03  4.390766e-03  \n",
       "max    1.142807e-02  1.094007e-02  1.245206e-02  1.202014e-02  "
      ]
     },
     "execution_count": 82,
     "metadata": {},
     "output_type": "execute_result"
    }
   ],
   "source": [
    "# stats\n",
    "df.describe()"
   ]
  },
  {
   "cell_type": "code",
   "execution_count": 83,
   "metadata": {},
   "outputs": [],
   "source": [
    "# Full wave rectification of the signal by taking the absolute value of the signal. Iterates over every column except 'Frame' column\n",
    "for column in df.columns[1:]:\n",
    "    df[column] = df[column].abs()"
   ]
  },
  {
   "cell_type": "code",
   "execution_count": 84,
   "metadata": {
    "scrolled": true
   },
   "outputs": [
    {
     "data": {
      "text/html": [
       "<div>\n",
       "<style scoped>\n",
       "    .dataframe tbody tr th:only-of-type {\n",
       "        vertical-align: middle;\n",
       "    }\n",
       "\n",
       "    .dataframe tbody tr th {\n",
       "        vertical-align: top;\n",
       "    }\n",
       "\n",
       "    .dataframe thead th {\n",
       "        text-align: right;\n",
       "    }\n",
       "</style>\n",
       "<table border=\"1\" class=\"dataframe\">\n",
       "  <thead>\n",
       "    <tr style=\"text-align: right;\">\n",
       "      <th></th>\n",
       "      <th>Frame</th>\n",
       "      <th>Analog_1</th>\n",
       "      <th>Analog_2</th>\n",
       "      <th>Analog_3</th>\n",
       "      <th>Analog_4</th>\n",
       "      <th>Analog_5</th>\n",
       "      <th>Analog_6</th>\n",
       "      <th>Analog_7</th>\n",
       "      <th>Analog_8</th>\n",
       "    </tr>\n",
       "  </thead>\n",
       "  <tbody>\n",
       "    <tr>\n",
       "      <td>0</td>\n",
       "      <td>1</td>\n",
       "      <td>0.005183</td>\n",
       "      <td>0.006061</td>\n",
       "      <td>0.000161</td>\n",
       "      <td>0.005340</td>\n",
       "      <td>0.001662</td>\n",
       "      <td>0.006668</td>\n",
       "      <td>0.004212</td>\n",
       "      <td>0.005611</td>\n",
       "    </tr>\n",
       "    <tr>\n",
       "      <td>1</td>\n",
       "      <td>2</td>\n",
       "      <td>0.006404</td>\n",
       "      <td>0.005450</td>\n",
       "      <td>0.000161</td>\n",
       "      <td>0.006561</td>\n",
       "      <td>0.001389</td>\n",
       "      <td>0.007583</td>\n",
       "      <td>0.001466</td>\n",
       "      <td>0.006527</td>\n",
       "    </tr>\n",
       "    <tr>\n",
       "      <td>2</td>\n",
       "      <td>3</td>\n",
       "      <td>0.005183</td>\n",
       "      <td>0.004535</td>\n",
       "      <td>0.005027</td>\n",
       "      <td>0.006256</td>\n",
       "      <td>0.001694</td>\n",
       "      <td>0.007583</td>\n",
       "      <td>0.001466</td>\n",
       "      <td>0.006527</td>\n",
       "    </tr>\n",
       "    <tr>\n",
       "      <td>3</td>\n",
       "      <td>4</td>\n",
       "      <td>0.004878</td>\n",
       "      <td>0.005450</td>\n",
       "      <td>0.004112</td>\n",
       "      <td>0.006256</td>\n",
       "      <td>0.000474</td>\n",
       "      <td>0.006057</td>\n",
       "      <td>0.002807</td>\n",
       "      <td>0.003475</td>\n",
       "    </tr>\n",
       "    <tr>\n",
       "      <td>4</td>\n",
       "      <td>5</td>\n",
       "      <td>0.003657</td>\n",
       "      <td>0.001483</td>\n",
       "      <td>0.005027</td>\n",
       "      <td>0.003509</td>\n",
       "      <td>0.003188</td>\n",
       "      <td>0.006362</td>\n",
       "      <td>0.001161</td>\n",
       "      <td>0.004696</td>\n",
       "    </tr>\n",
       "  </tbody>\n",
       "</table>\n",
       "</div>"
      ],
      "text/plain": [
       "   Frame  Analog_1  Analog_2  Analog_3  Analog_4  Analog_5  Analog_6  \\\n",
       "0      1  0.005183  0.006061  0.000161  0.005340  0.001662  0.006668   \n",
       "1      2  0.006404  0.005450  0.000161  0.006561  0.001389  0.007583   \n",
       "2      3  0.005183  0.004535  0.005027  0.006256  0.001694  0.007583   \n",
       "3      4  0.004878  0.005450  0.004112  0.006256  0.000474  0.006057   \n",
       "4      5  0.003657  0.001483  0.005027  0.003509  0.003188  0.006362   \n",
       "\n",
       "   Analog_7  Analog_8  \n",
       "0  0.004212  0.005611  \n",
       "1  0.001466  0.006527  \n",
       "2  0.001466  0.006527  \n",
       "3  0.002807  0.003475  \n",
       "4  0.001161  0.004696  "
      ]
     },
     "execution_count": 84,
     "metadata": {},
     "output_type": "execute_result"
    }
   ],
   "source": [
    "# show first 5 rows\n",
    "df.head(5)"
   ]
  },
  {
   "cell_type": "code",
   "execution_count": 85,
   "metadata": {},
   "outputs": [
    {
     "data": {
      "text/plain": [
       "[<matplotlib.lines.Line2D at 0x7efdd39af208>]"
      ]
     },
     "execution_count": 85,
     "metadata": {},
     "output_type": "execute_result"
    },
    {
     "data": {
      "image/png": "[encoded data removed]",
      "text/plain": [
       "<Figure size 432x288 with 1 Axes>"
      ]
     },
     "metadata": {
      "needs_background": "light"
     },
     "output_type": "display_data"
    }
   ],
   "source": [
    "# plot with y-range, labels, title, black colored line graph\n",
    "plt.ylim(0,0.025) \n",
    "plt.xlabel('Frames')\n",
    "plt.ylabel('Voltage (mV)')\n",
    "plt.title('Full Wave Rectified EMG')\n",
    "plt.plot(df['Frame'],df['Analog_1'], color='k')"
   ]
  },
  {
   "cell_type": "code",
   "execution_count": 86,
   "metadata": {},
   "outputs": [
    {
     "data": {
      "text/plain": [
       "[<matplotlib.lines.Line2D at 0x7efdd3905be0>]"
      ]
     },
     "execution_count": 86,
     "metadata": {},
     "output_type": "execute_result"
    },
    {
     "data": {
      "image/png": "[encoded data removed]",
      "text/plain": [
       "<Figure size 432x288 with 1 Axes>"
      ]
     },
     "metadata": {
      "needs_background": "light"
     },
     "output_type": "display_data"
    }
   ],
   "source": [
    "# plot with y-range, labels, title, black colored line graph\n",
    "plt.ylim(0,0.025) \n",
    "plt.xlabel('Frames')\n",
    "plt.ylabel('Voltage (mV)')\n",
    "plt.title('First 2000 Frames (1s) of Full Wave Rectified EMG')\n",
    "plt.plot(df['Frame'].iloc[0:2000],df['Analog_1'].iloc[0:2000], color='k')"
   ]
  },
  {
   "cell_type": "code",
   "execution_count": 87,
   "metadata": {},
   "outputs": [
    {
     "data": {
      "text/plain": [
       "[<matplotlib.lines.Line2D at 0x7efdd38ed668>]"
      ]
     },
     "execution_count": 87,
     "metadata": {},
     "output_type": "execute_result"
    },
    {
     "data": {
      "image/png": "[encoded data removed]",
      "text/plain": [
       "<Figure size 432x288 with 1 Axes>"
      ]
     },
     "metadata": {
      "needs_background": "light"
     },
     "output_type": "display_data"
    }
   ],
   "source": [
    "# plot with y-range, labels, title, black colored line graph\n",
    "# This is 'Analog_2'!\n",
    "plt.ylim(0,0.025) \n",
    "plt.xlabel('Frames')\n",
    "plt.ylabel('Voltage (mV)')\n",
    "plt.title('First 2000 Frames (1s) of Full Wave Rectified EMG')\n",
    "plt.plot(df['Frame'].iloc[0:2000],df['Analog_2'].iloc[0:2000], color='k')"
   ]
  },
  {
   "cell_type": "code",
   "execution_count": null,
   "metadata": {},
   "outputs": [],
   "source": []
  }
 ],
 "metadata": {
  "kernelspec": {
   "display_name": "Python 3",
   "language": "python",
   "name": "python3"
  },
  "language_info": {
   "codemirror_mode": {
    "name": "ipython",
    "version": 3
   },
   "file_extension": ".py",
   "mimetype": "text/x-python",
   "name": "python",
   "nbconvert_exporter": "python",
   "pygments_lexer": "ipython3",
   "version": "3.6.9"
  }
 },
 "nbformat": 4,
 "nbformat_minor": 4
}
